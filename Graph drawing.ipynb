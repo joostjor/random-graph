{
 "cells": [
  {
   "cell_type": "code",
   "execution_count": null,
   "metadata": {},
   "outputs": [],
   "source": [
    "from IPython.display import display\n",
    "from pathlib import Path\n",
    "\n",
    "import matplotlib.pyplot as plt\n",
    "from matplotlib import rc\n",
    "import numpy as np\n",
    "\n",
    "from graph_lib.spatial_graph import SpatialGraph, GIRG, LongRangePercolation, VertexSet, ConfigurationModel\n",
    "# from spreading_model import SEIRTMarkovian\n",
    "\n",
    "rc('animation', html='html5')"
   ]
  },
  {
   "cell_type": "markdown",
   "metadata": {},
   "source": [
    "# Draw graphs where the edge uniforms are fixed (and graphs coupled)"
   ]
  },
  {
   "cell_type": "code",
   "execution_count": null,
   "metadata": {},
   "outputs": [],
   "source": [
    "vertex_set = VertexSet.from_poisson_point_process(number_of_vertices=1000, dimension=2)\n",
    "edge_rvs = np.random.random((vertex_set.number_of_vertices,vertex_set.number_of_vertices))"
   ]
  },
  {
   "cell_type": "code",
   "execution_count": null,
   "metadata": {},
   "outputs": [],
   "source": [
    "c1 = 0.7\n",
    "c2 = 0.9\n",
    "girg = GIRG(vertex_set=vertex_set, alpha=2.3, tau=3.3, c1=c1, c2=c2, on_torus=False)\n",
    "girg.sample_graph(edge_rvs)\n",
    "# girg.sample_graph()\n",
    "# graph_nx = girg.to_networkx_graph(centre_vertex=5)\n",
    "# graph_long = girg.truncate_long_edges(15.5)\n",
    "girg.average_degree"
   ]
  },
  {
   "cell_type": "code",
   "execution_count": null,
   "metadata": {},
   "outputs": [],
   "source": [
    "girg = GIRG(vertex_set=vertex_set, alpha=2.3, tau=3.3, c1=c1, c2=c2, on_torus=False)\n",
    "girg.sample_graph(edge_rvs)\n",
    "fig = plt.figure(figsize=(9,9))\n",
    "girg.draw(node_size=-20*np.log(vertex_set.weights))\n",
    "plt.axis('off')\n",
    "# plt.savefig(\"single-graph.png\", bbox_inches='tight', pad_inches=0, transparent=False, dpi=300)"
   ]
  },
  {
   "cell_type": "code",
   "execution_count": null,
   "metadata": {},
   "outputs": [],
   "source": [
    "girg = GIRG(vertex_set=vertex_set, alpha=10.3, tau=3.3, c1=c1, c2=c2, on_torus=False)\n",
    "girg.sample_graph(edge_rvs)\n",
    "fig = plt.figure(figsize=(9,9))\n",
    "girg.draw(node_size=-20*np.log(vertex_set.weights))\n",
    "plt.axis('off')"
   ]
  },
  {
   "cell_type": "markdown",
   "metadata": {},
   "source": [
    "## Single graph"
   ]
  },
  {
   "cell_type": "code",
   "execution_count": null,
   "metadata": {},
   "outputs": [],
   "source": [
    "fig = plt.figure(figsize=(9,9))\n",
    "lrp.draw(node_size=10)\n",
    "plt.axis('off')\n",
    "# plt.savefig(\"single-graph.pdf\", bbox_inches='tight')"
   ]
  },
  {
   "cell_type": "markdown",
   "metadata": {},
   "source": [
    "## Two graphs side-by-side"
   ]
  },
  {
   "cell_type": "code",
   "execution_count": null,
   "metadata": {},
   "outputs": [],
   "source": [
    "fig = plt.figure(figsize=(18,9))\n",
    "plt.subplot(1,2,1)\n",
    "lrp.draw(node_size=10)\n",
    "plt.axis('off')\n",
    "plt.subplot(1,2, 2)\n",
    "girg.draw(node_size=-10*np.log(vertex_set.weights))\n",
    "plt.axis('off')\n",
    "# plt.savefig(\"saved-graph.pdf\", bbox_inches='tight')"
   ]
  },
  {
   "cell_type": "markdown",
   "metadata": {},
   "source": [
    "## Or a configuration model"
   ]
  },
  {
   "cell_type": "code",
   "execution_count": null,
   "metadata": {},
   "outputs": [],
   "source": [
    "number_of_vertices = 100\n",
    "vertex_set = VertexSet(locations=np.zeros((number_of_vertices,2)), \n",
    "                       weights=np.random.random(number_of_vertices))\n",
    "cm = ConfigurationModel(vertex_set, \n",
    "                        distribution_type=\"power_law\", \n",
    "                        distribution_parameter=3.2, \n",
    "                        mean_degree=5)\n",
    "cm.sample_graph()\n",
    "fig = plt.figure(figsize=(10,10))\n",
    "cm.draw_spring_layout(node_size=-10*np.log(vertex_set.weights), iterations=100)\n",
    "plt.axis('off')\n",
    "# plt.savefig(\"saved-graph.pdf\", bbox_inches='tight')"
   ]
  }
 ],
 "metadata": {
  "kernelspec": {
   "display_name": "env-tim-2",
   "language": "python",
   "name": "env-tim-2"
  },
  "language_info": {
   "codemirror_mode": {
    "name": "ipython",
    "version": 3
   },
   "file_extension": ".py",
   "mimetype": "text/x-python",
   "name": "python",
   "nbconvert_exporter": "python",
   "pygments_lexer": "ipython3",
   "version": "3.7.3"
  }
 },
 "nbformat": 4,
 "nbformat_minor": 2
}
